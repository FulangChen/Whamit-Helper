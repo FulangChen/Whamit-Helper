{
  "nbformat": 4,
  "nbformat_minor": 0,
  "metadata": {
    "colab": {
      "name": "Whamit! Helper.ipynb",
      "provenance": [],
      "collapsed_sections": []
    },
    "kernelspec": {
      "name": "python3",
      "display_name": "Python 3"
    },
    "language_info": {
      "name": "python"
    }
  },
  "cells": [
    {
      "cell_type": "markdown",
      "source": [
        "# *Whamit!* Helper\n",
        "\n",
        "* This small program is intended to help *Whamit!* editors **find a list of alumni/students/faculty who presented at a target conference**.\n",
        "\n",
        "* See the following post as an example:\n",
        "http://whamit.mit.edu/2021/02/16/mit-lsa-2021/"
      ],
      "metadata": {
        "id": "JeA3oPA-zT-a"
      }
    },
    {
      "cell_type": "markdown",
      "source": [
        "# Step 0\n",
        "\n",
        "* Run the following code.\n",
        "\n",
        "* Please remember to keep [ling_alumni.txt](https://github.com/FulangChen/Whamit-Helper/blob/main/ling_alumni.txt) and [ling_current.txt](https://github.com/FulangChen/Whamit-Helper/blob/main/ling_current.txt) up-to-date!! \n",
        "\n",
        "* Alternatively, **download, update, and upload ling_alumni.txt and ling_current.txt to colab**. "
      ],
      "metadata": {
        "id": "M2jwtMaxV4uk"
      }
    },
    {
      "cell_type": "code",
      "source": [
        "! git clone https://github.com/FulangChen/Whamit-Helper"
      ],
      "metadata": {
        "colab": {
          "base_uri": "https://localhost:8080/"
        },
        "id": "2ovwx6wYBGLU",
        "outputId": "5abd3c0a-a339-461c-8bbe-ed96307b3ad1"
      },
      "execution_count": null,
      "outputs": [
        {
          "output_type": "stream",
          "name": "stdout",
          "text": [
            "Cloning into 'Whamit-Helper'...\n",
            "remote: Enumerating objects: 16, done.\u001b[K\n",
            "remote: Counting objects: 100% (16/16), done.\u001b[K\n",
            "remote: Compressing objects: 100% (14/14), done.\u001b[K\n",
            "remote: Total 16 (delta 5), reused 13 (delta 2), pack-reused 0\u001b[K\n",
            "Unpacking objects: 100% (16/16), done.\n"
          ]
        }
      ]
    },
    {
      "cell_type": "markdown",
      "source": [
        "* **target_file**: copy the content of target conference program from the web; paste to text editor and save as a .txt file (see [this example file](https://github.com/FulangChen/Whamit-Helper/blob/main/ling_lsa2021.txt)).\n",
        "\n",
        "* Upload **target_file** to colab. \n",
        "\n",
        "* **Change target_file path** in the following code. \n",
        "\n",
        "* Run the following code."
      ],
      "metadata": {
        "id": "6o2LniWGCxeV"
      }
    },
    {
      "cell_type": "code",
      "execution_count": null,
      "metadata": {
        "id": "jJr5jRg8FYNY"
      },
      "outputs": [],
      "source": [
        "target_file = \"/content/Whamit-Helper/ling_lsa2021.txt\" # change path accordingly if target_file is uploaded from local computer"
      ]
    },
    {
      "cell_type": "markdown",
      "source": [
        "# Step 1\n",
        "\n",
        "* Run the following code."
      ],
      "metadata": {
        "id": "sQtMI6TVuox5"
      }
    },
    {
      "cell_type": "code",
      "source": [
        "class Linguist:\n",
        "\n",
        "    # Constructor\n",
        "    def __init__(self, t_first, t_middle, t_last, t_class_year = 'current'):\n",
        "        self.first = t_first\n",
        "        self.first_init = t_first[0] \n",
        "        self.middle = t_middle\n",
        "        self.last = t_last\n",
        "        self.class_year = t_class_year\n",
        "\n",
        "    # Methods\n",
        "    def SearchFullName(self, t_string):\n",
        "        #if self.last.lower() in t_string.lower() and self.first.lower() in t_string.lower():\n",
        "        if self.last in t_string and self.first in t_string:\n",
        "            return True\n",
        "        else:\n",
        "            return False\n",
        "\n",
        "    def SearchFirstInitLast(self, t_string):\n",
        "        if self.last in t_string and self.first_init in t_string:\n",
        "            return True\n",
        "        else:\n",
        "            return False"
      ],
      "metadata": {
        "id": "WrYuyJ6jFynH"
      },
      "execution_count": null,
      "outputs": []
    },
    {
      "cell_type": "markdown",
      "source": [
        "# Step 2\n",
        "* Run the following code before running the code in Step 3 to search for **a list of alumni who presented at the target conference**."
      ],
      "metadata": {
        "id": "_BRhx9Mnuv6F"
      }
    },
    {
      "cell_type": "code",
      "source": [
        "f = open(\"/content/Whamit-Helper/ling_alumni.txt\", \"r\") # change path accordingly if ling_alumni.txt is uploaded from local computer\n",
        "people = []\n",
        "for line in f:\n",
        "    if len(line) > 5:\n",
        "        tokens = line.split(\" \")\n",
        "        name = []\n",
        "        i = 0\n",
        "        while \"(\" not in tokens[i]:\n",
        "            name.append(tokens[i])\n",
        "            i += 1\n",
        "        year = int(tokens[i].replace(\"(\",\"\").replace(\")\",\"\"))\n",
        "        if (len(name) == 3):\n",
        "            people.append(Linguist(name[0], name[1], name[2], year))\n",
        "        elif (len(name) == 2):\n",
        "            people.append(Linguist(name[0], None, name[1], year))\n",
        "        elif (len(name) >= 4):\n",
        "            middle = \"\"\n",
        "            for j in range(1,len(name)-1):\n",
        "                middle += name[j]+\" \"\n",
        "            people.append(Linguist(name[0], middle, name[-1], year))\n",
        "        else:\n",
        "            print(\"error\")\n",
        "            exit(1)\n",
        "f.close()"
      ],
      "metadata": {
        "id": "RgJlsHPxGbwX"
      },
      "execution_count": null,
      "outputs": []
    },
    {
      "cell_type": "markdown",
      "source": [
        "# Step 2'\n",
        "* Run the following code before running the code in Step 3 to search for **a list of current students and faculty who presented at the target conference**."
      ],
      "metadata": {
        "id": "QtbvX4Pdu28V"
      }
    },
    {
      "cell_type": "code",
      "source": [
        "f = open(\"/content/Whamit-Helper/ling_current.txt\", \"r\") # # change path accordingly if ling_current.txt is uploaded from local computer \n",
        "people = []\n",
        "for line in f:\n",
        "    if len(line) > 5:\n",
        "        line = line[:-1]\n",
        "        tokens = line.split(\" \")\n",
        "        if len(tokens)==3:\n",
        "            people.append(Linguist(tokens[0], tokens[1], tokens[2]))\n",
        "        if len(tokens)==2:\n",
        "            people.append(Linguist(tokens[0], '', tokens[1]))\n",
        "f.close()"
      ],
      "metadata": {
        "id": "ShhmmimnJNmJ"
      },
      "execution_count": null,
      "outputs": []
    },
    {
      "cell_type": "markdown",
      "source": [
        "# Step 3\n",
        "\n",
        "* After running either the code in Step 2 or the code in Step 2', run the following code.\n",
        "\n",
        "* It's always helpful to **run the following code twice**, once **searching for the full name** (which might \"undergenerate\") and once **searching for first initial + last name** (which might \"overgenerate\").\n",
        "\n",
        "* **Output**: a list of alum/student/faculty names, followed by class year or \"current\"."
      ],
      "metadata": {
        "id": "0w8NY_DCvIGB"
      }
    },
    {
      "cell_type": "code",
      "source": [
        "print(\"target_file: \" + target_file)\n",
        "my_list = set()\n",
        "f = open(target_file, \"r\")\n",
        "for line in f:\n",
        "    for person in people:\n",
        "        #if person.SearchFullName(line): # use this line to search for the full name\n",
        "        if person.SearchFirstInitLast(line): # use this line to search for first initial + last name\n",
        "            my_list.add(person.first + \" \" + person.last + \", \" + str(person.class_year))\n",
        "f.close()\n",
        "for elt in my_list:\n",
        "    print(elt)"
      ],
      "metadata": {
        "colab": {
          "base_uri": "https://localhost:8080/"
        },
        "id": "rzqcREnkKlaz",
        "outputId": "32324595-581c-4979-bea4-accee16ce24f"
      },
      "execution_count": null,
      "outputs": [
        {
          "output_type": "stream",
          "name": "stdout",
          "text": [
            "target_file: /content/Whamit-Helper/ling_lsa2021.txt\n",
            "Corey Washington, 1987\n",
            "Leland George, 1980\n",
            "Daniel Fox, 1998\n",
            "Mark Baker, 1985\n",
            "Taylor Roberts, 2000\n",
            "Rafael Abramovitz, 2021\n",
            "Joseph Hill, 2008\n",
            "Hyesun Cho, 2010\n",
            "Barbara Hall, 1965\n",
            "Douglas Jones, 1993\n",
            "Susan Martin, 1975\n",
            "Michael Erlewine, 2014\n",
            "Kyle Johnson, 1986\n",
            "Sarah Bell, 1976\n",
            "Kenyon Branan, 2018\n",
            "Guillaume Thomas, 2012\n",
            "Patrick Grosz, 2011\n",
            "Alan Prince, 1975\n",
            "Samuel Zukoff, 2017\n",
            "Wha-Chun Kim, 1976\n",
            "James Huang, 1982\n",
            "Tingchun Chen, 2018\n",
            "Lisa Cheng, 1991\n",
            "Young Do, 2013\n",
            "Roni Katzir, 2008\n",
            "Ezra Keshet, 2008\n",
            "Heejeong Ko, 2005\n",
            "Youngjoo Lee, 2004\n",
            "Shoichi Takahashi, 2006\n",
            "Valentine Hacquard, 2006\n",
            "Colin Davis, 2020\n",
            "Jennifer Cole, 1987\n",
            "Ken Hiraiwa, 2005\n",
            "Edwin Williams, 1974\n",
            "Neil Banerjee, 2021\n",
            "Feng-Fan Hsieh, 2007\n"
          ]
        }
      ]
    }
  ]
}